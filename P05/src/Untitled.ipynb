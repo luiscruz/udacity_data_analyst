{
 "cells": [
  {
   "cell_type": "code",
   "execution_count": 112,
   "metadata": {
    "collapsed": false
   },
   "outputs": [],
   "source": [
    "%matplotlib inline\n",
    "\n",
    "import matplotlib.pyplot as plt\n",
    "plt.rcParams[\"figure.figsize\"] = [16, 4]\n",
    "\n",
    "import pickle\n",
    "import pandas\n",
    "with open(\"final_project_dataset.pkl\", \"r\") as data_file:\n",
    "    data_dict = pickle.load(data_file)\n"
   ]
  },
  {
   "cell_type": "code",
   "execution_count": 10,
   "metadata": {
    "collapsed": false,
    "scrolled": true
   },
   "outputs": [
    {
     "data": {
      "text/plain": [
       "('METTS MARK',\n",
       " {'bonus': 600000,\n",
       "  'deferral_payments': 'NaN',\n",
       "  'deferred_income': 'NaN',\n",
       "  'director_fees': 'NaN',\n",
       "  'email_address': 'mark.metts@enron.com',\n",
       "  'exercised_stock_options': 'NaN',\n",
       "  'expenses': 94299,\n",
       "  'from_messages': 29,\n",
       "  'from_poi_to_this_person': 38,\n",
       "  'from_this_person_to_poi': 1,\n",
       "  'loan_advances': 'NaN',\n",
       "  'long_term_incentive': 'NaN',\n",
       "  'other': 1740,\n",
       "  'poi': False,\n",
       "  'restricted_stock': 585062,\n",
       "  'restricted_stock_deferred': 'NaN',\n",
       "  'salary': 365788,\n",
       "  'shared_receipt_with_poi': 702,\n",
       "  'to_messages': 807,\n",
       "  'total_payments': 1061827,\n",
       "  'total_stock_value': 585062})"
      ]
     },
     "execution_count": 10,
     "metadata": {},
     "output_type": "execute_result"
    }
   ],
   "source": [
    "data_dict.items()[0]\n"
   ]
  },
  {
   "cell_type": "code",
   "execution_count": 3,
   "metadata": {
    "collapsed": false,
    "scrolled": true
   },
   "outputs": [
    {
     "data": {
      "text/plain": [
       "['METTS MARK',\n",
       " 'BAXTER JOHN C',\n",
       " 'ELLIOTT STEVEN',\n",
       " 'CORDES WILLIAM R',\n",
       " 'HANNON KEVIN P',\n",
       " 'MORDAUNT KRISTINA M',\n",
       " 'MEYER ROCKFORD G',\n",
       " 'MCMAHON JEFFREY',\n",
       " 'HORTON STANLEY C',\n",
       " 'PIPER GREGORY F',\n",
       " 'HUMPHREY GENE E',\n",
       " 'UMANOFF ADAM S',\n",
       " 'BLACHMAN JEREMY M',\n",
       " 'SUNDE MARTIN',\n",
       " 'GIBBS DANA R',\n",
       " 'LOWRY CHARLES P',\n",
       " 'COLWELL WESLEY',\n",
       " 'MULLER MARK S',\n",
       " 'JACKSON CHARLENE R',\n",
       " 'WESTFAHL RICHARD K',\n",
       " 'WALTERS GARETH W',\n",
       " 'WALLS JR ROBERT H',\n",
       " 'KITCHEN LOUISE',\n",
       " 'CHAN RONNIE',\n",
       " 'BELFER ROBERT',\n",
       " 'SHANKMAN JEFFREY A',\n",
       " 'WODRASKA JOHN',\n",
       " 'BERGSIEKER RICHARD P',\n",
       " 'URQUHART JOHN A',\n",
       " 'BIBI PHILIPPE A',\n",
       " 'RIEKER PAULA H',\n",
       " 'WHALEY DAVID A',\n",
       " 'BECK SALLY W',\n",
       " 'HAUG DAVID L',\n",
       " 'ECHOLS JOHN B',\n",
       " 'MENDELSOHN JOHN',\n",
       " 'HICKERSON GARY J',\n",
       " 'CLINE KENNETH W',\n",
       " 'LEWIS RICHARD',\n",
       " 'HAYES ROBERT E',\n",
       " 'MCCARTY DANNY J',\n",
       " 'KOPPER MICHAEL J',\n",
       " 'LEFF DANIEL P',\n",
       " 'LAVORATO JOHN J',\n",
       " 'BERBERIAN DAVID',\n",
       " 'DETMERING TIMOTHY J',\n",
       " 'WAKEHAM JOHN',\n",
       " 'POWERS WILLIAM',\n",
       " 'GOLD JOSEPH',\n",
       " 'BANNANTINE JAMES M',\n",
       " 'DUNCAN JOHN H',\n",
       " 'SHAPIRO RICHARD S',\n",
       " 'SHERRIFF JOHN R',\n",
       " 'SHELBY REX',\n",
       " 'LEMAISTRE CHARLES',\n",
       " 'DEFFNER JOSEPH M',\n",
       " 'KISHKILL JOSEPH G',\n",
       " 'WHALLEY LAWRENCE G',\n",
       " 'MCCONNELL MICHAEL S',\n",
       " 'PIRO JIM',\n",
       " 'DELAINEY DAVID W',\n",
       " 'SULLIVAN-SHAKLOVITZ COLLEEN',\n",
       " 'WROBEL BRUCE',\n",
       " 'LINDHOLM TOD A',\n",
       " 'MEYER JEROME J',\n",
       " 'LAY KENNETH L',\n",
       " 'BUTTS ROBERT H',\n",
       " 'OLSON CINDY K',\n",
       " 'MCDONALD REBECCA',\n",
       " 'CUMBERLAND MICHAEL S',\n",
       " 'GAHN ROBERT S',\n",
       " 'MCCLELLAN GEORGE',\n",
       " 'HERMANN ROBERT J',\n",
       " 'SCRIMSHAW MATTHEW',\n",
       " 'GATHMANN WILLIAM D',\n",
       " 'HAEDICKE MARK E',\n",
       " 'BOWEN JR RAYMOND M',\n",
       " 'GILLIS JOHN',\n",
       " 'FITZGERALD JAY L',\n",
       " 'MORAN MICHAEL P',\n",
       " 'REDMOND BRIAN L',\n",
       " 'BAZELIDES PHILIP J',\n",
       " 'BELDEN TIMOTHY N',\n",
       " 'DURAN WILLIAM D',\n",
       " 'THORN TERENCE H',\n",
       " 'FASTOW ANDREW S',\n",
       " 'FOY JOE',\n",
       " 'CALGER CHRISTOPHER F',\n",
       " 'RICE KENNETH D',\n",
       " 'KAMINSKI WINCENTY J',\n",
       " 'LOCKHART EUGENE E',\n",
       " 'COX DAVID',\n",
       " 'OVERDYKE JR JERE C',\n",
       " 'PEREIRA PAULO V. FERRAZ',\n",
       " 'STABLER FRANK',\n",
       " 'SKILLING JEFFREY K',\n",
       " 'BLAKE JR. NORMAN P',\n",
       " 'SHERRICK JEFFREY B',\n",
       " 'PRENTICE JAMES',\n",
       " 'GRAY RODNEY',\n",
       " 'PICKERING MARK R',\n",
       " 'THE TRAVEL AGENCY IN THE PARK',\n",
       " 'NOLES JAMES L',\n",
       " 'KEAN STEVEN J',\n",
       " 'TOTAL',\n",
       " 'FOWLER PEGGY',\n",
       " 'WASAFF GEORGE',\n",
       " 'WHITE JR THOMAS E',\n",
       " 'CHRISTODOULOU DIOMEDES',\n",
       " 'ALLEN PHILLIP K',\n",
       " 'SHARP VICTORIA T',\n",
       " 'JAEDICKE ROBERT',\n",
       " 'WINOKUR JR. HERBERT S',\n",
       " 'BROWN MICHAEL',\n",
       " 'BADUM JAMES P',\n",
       " 'HUGHES JAMES A',\n",
       " 'REYNOLDS LAWRENCE',\n",
       " 'DIMICHELE RICHARD G',\n",
       " 'BHATNAGAR SANJAY',\n",
       " 'CARTER REBECCA C',\n",
       " 'BUCHANAN HAROLD G',\n",
       " 'YEAP SOON',\n",
       " 'MURRAY JULIA H',\n",
       " 'GARLAND C KEVIN',\n",
       " 'DODSON KEITH',\n",
       " 'YEAGER F SCOTT',\n",
       " 'HIRKO JOSEPH',\n",
       " 'DIETRICH JANET R',\n",
       " 'DERRICK JR. JAMES V',\n",
       " 'FREVERT MARK A',\n",
       " 'PAI LOU L',\n",
       " 'BAY FRANKLIN R',\n",
       " 'HAYSLETT RODERICK J',\n",
       " 'FUGH JOHN L',\n",
       " 'FALLON JAMES B',\n",
       " 'KOENIG MARK E',\n",
       " 'SAVAGE FRANK',\n",
       " 'IZZO LAWRENCE L',\n",
       " 'TILNEY ELIZABETH A',\n",
       " 'MARTIN AMANDA K',\n",
       " 'BUY RICHARD B',\n",
       " 'GRAMM WENDY L',\n",
       " 'CAUSEY RICHARD A',\n",
       " 'TAYLOR MITCHELL S',\n",
       " 'DONAHUE JR JEFFREY M',\n",
       " 'GLISAN JR BEN F']"
      ]
     },
     "execution_count": 3,
     "metadata": {},
     "output_type": "execute_result"
    }
   ],
   "source": [
    "data_dict.keys()"
   ]
  },
  {
   "cell_type": "code",
   "execution_count": 36,
   "metadata": {
    "collapsed": false
   },
   "outputs": [],
   "source": [
    "expenses = map(lambda (x, y): (x,y['expenses']),data_dict.items())\n",
    "expenses.sort(cmp = lambda (_1,expense1),(_2,expense2): cmp(expense1,expense2))"
   ]
  },
  {
   "cell_type": "code",
   "execution_count": 37,
   "metadata": {
    "collapsed": false
   },
   "outputs": [
    {
     "data": {
      "text/plain": [
       "[('MENDELSOHN JOHN', 148),\n",
       " ('HAUG DAVID L', 475),\n",
       " ('BUCHANAN HAROLD G', 600),\n",
       " ('BLAKE JR. NORMAN P', 1279),\n",
       " ('WINOKUR JR. HERBERT S', 1413),\n",
       " ('MEYER JEROME J', 2151),\n",
       " ('DIETRICH JANET R', 3475),\n",
       " ('BADUM JAMES P', 3486),\n",
       " ('HUMPHREY GENE E', 4994),\n",
       " ('KITCHEN LOUISE', 5774),\n",
       " ('MARTIN AMANDA K', 8211),\n",
       " ('REYNOLDS LAWRENCE', 8409),\n",
       " ('BUTTS ROBERT H', 9410),\n",
       " ('JACKSON CHARLENE R', 10181),\n",
       " ('BAXTER JOHN C', 11200),\n",
       " ('BERBERIAN DAVID', 11892),\n",
       " ('ALLEN PHILLIP K', 13868),\n",
       " ('REDMOND BRIAN L', 14689),\n",
       " ('COLWELL WESLEY', 16514),\n",
       " ('STABLER FRANK', 16514),\n",
       " ('BELDEN TIMOTHY N', 17355),\n",
       " ('OVERDYKE JR JERE C', 18834),\n",
       " ('ECHOLS JOHN B', 21530),\n",
       " ('CUMBERLAND MICHAEL S', 22344),\n",
       " ('SHELBY REX', 22884),\n",
       " ('FITZGERALD JAY L', 23870),\n",
       " ('DURAN WILLIAM D', 25785),\n",
       " ('COX DAVID', 27861),\n",
       " ('PEREIRA PAULO V. FERRAZ', 27942),\n",
       " ('IZZO LAWRENCE L', 28093),\n",
       " ('DODSON KEITH', 28164),\n",
       " ('SKILLING JEFFREY K', 29336),\n",
       " ('CAUSEY RICHARD A', 30674),\n",
       " ('PICKERING MARK R', 31653),\n",
       " ('PAI LOU L', 32047),\n",
       " ('RIEKER PAULA H', 33271),\n",
       " ('WALTERS GARETH W', 33785),\n",
       " ('HANNON KEVIN P', 34039),\n",
       " ('MORDAUNT KRISTINA M', 35018),\n",
       " ('DIMICHELE RICHARD G', 35812),\n",
       " ('CALGER CHRISTOPHER F', 35818),\n",
       " ('BECK SALLY W', 37172),\n",
       " ('BIBI PHILIPPE A', 38559),\n",
       " ('DEFFNER JOSEPH M', 41626),\n",
       " ('KEAN STEVEN J', 41953),\n",
       " ('PIPER GREGORY F', 43057),\n",
       " ('THORN TERENCE H', 46145),\n",
       " ('RICE KENNETH D', 46950),\n",
       " ('HERMANN ROBERT J', 48357),\n",
       " ('GARLAND C KEVIN', 48405),\n",
       " ('BROWN MICHAEL', 49288),\n",
       " ('LAVORATO JOHN J', 49537),\n",
       " ('GAHN ROBERT S', 50080),\n",
       " ('WALLS JR ROBERT H', 50936),\n",
       " ('DERRICK JR. JAMES V', 51124),\n",
       " ('WESTFAHL RICHARD K', 51870),\n",
       " ('DETMERING TIMOTHY J', 52255),\n",
       " ('UMANOFF ADAM S', 53122),\n",
       " ('YEAGER F SCOTT', 53947),\n",
       " ('YEAP SOON', 55097),\n",
       " ('FASTOW ANDREW S', 55921),\n",
       " ('BANNANTINE JAMES M', 56301),\n",
       " ('MURRAY JULIA H', 57580),\n",
       " ('LINDHOLM TOD A', 57727),\n",
       " ('WHALLEY LAWRENCE G', 57838),\n",
       " ('BERGSIEKER RICHARD P', 59175),\n",
       " ('OLSON CINDY K', 63791),\n",
       " ('BOWEN JR RAYMOND M', 65907),\n",
       " ('HAEDICKE MARK E', 76169),\n",
       " ('HIRKO JOSEPH', 77978),\n",
       " ('ELLIOTT STEVEN', 78552),\n",
       " ('WHITE JR THOMAS E', 81353),\n",
       " ('MCCONNELL MICHAEL S', 81364),\n",
       " ('KAMINSKI WINCENTY J', 83585),\n",
       " ('BLACHMAN JEREMY M', 84208),\n",
       " ('DELAINEY DAVID W', 86174),\n",
       " ('FREVERT MARK A', 86987),\n",
       " ('METTS MARK', 94299),\n",
       " ('FALLON JAMES B', 95924),\n",
       " ('DONAHUE JR JEFFREY M', 96268),\n",
       " ('HICKERSON GARY J', 98849),\n",
       " ('LAY KENNETH L', 99832),\n",
       " ('WAKEHAM JOHN', 103773),\n",
       " ('KISHKILL JOSEPH G', 116335),\n",
       " ('SHARP VICTORIA T', 116337),\n",
       " ('KOPPER MICHAEL J', 118134),\n",
       " ('GLISAN JR BEN F', 125978),\n",
       " ('KOENIG MARK E', 127017),\n",
       " ('BAY FRANKLIN R', 129142),\n",
       " ('MCMAHON JEFFREY', 137108),\n",
       " ('SHAPIRO RICHARD S', 137767),\n",
       " ('SHANKMAN JEFFREY A', 178979),\n",
       " ('URQUHART JOHN A', 228656),\n",
       " ('MCCLELLAN GEORGE', 228763),\n",
       " ('TOTAL', 5235198),\n",
       " ('CORDES WILLIAM R', 'NaN'),\n",
       " ('MEYER ROCKFORD G', 'NaN'),\n",
       " ('HORTON STANLEY C', 'NaN'),\n",
       " ('SUNDE MARTIN', 'NaN'),\n",
       " ('GIBBS DANA R', 'NaN'),\n",
       " ('LOWRY CHARLES P', 'NaN'),\n",
       " ('MULLER MARK S', 'NaN'),\n",
       " ('CHAN RONNIE', 'NaN'),\n",
       " ('BELFER ROBERT', 'NaN'),\n",
       " ('WODRASKA JOHN', 'NaN'),\n",
       " ('WHALEY DAVID A', 'NaN'),\n",
       " ('CLINE KENNETH W', 'NaN'),\n",
       " ('LEWIS RICHARD', 'NaN'),\n",
       " ('HAYES ROBERT E', 'NaN'),\n",
       " ('MCCARTY DANNY J', 'NaN'),\n",
       " ('LEFF DANIEL P', 'NaN'),\n",
       " ('POWERS WILLIAM', 'NaN'),\n",
       " ('GOLD JOSEPH', 'NaN'),\n",
       " ('DUNCAN JOHN H', 'NaN'),\n",
       " ('SHERRIFF JOHN R', 'NaN'),\n",
       " ('LEMAISTRE CHARLES', 'NaN'),\n",
       " ('PIRO JIM', 'NaN'),\n",
       " ('SULLIVAN-SHAKLOVITZ COLLEEN', 'NaN'),\n",
       " ('WROBEL BRUCE', 'NaN'),\n",
       " ('MCDONALD REBECCA', 'NaN'),\n",
       " ('SCRIMSHAW MATTHEW', 'NaN'),\n",
       " ('GATHMANN WILLIAM D', 'NaN'),\n",
       " ('GILLIS JOHN', 'NaN'),\n",
       " ('MORAN MICHAEL P', 'NaN'),\n",
       " ('BAZELIDES PHILIP J', 'NaN'),\n",
       " ('FOY JOE', 'NaN'),\n",
       " ('LOCKHART EUGENE E', 'NaN'),\n",
       " ('SHERRICK JEFFREY B', 'NaN'),\n",
       " ('PRENTICE JAMES', 'NaN'),\n",
       " ('GRAY RODNEY', 'NaN'),\n",
       " ('THE TRAVEL AGENCY IN THE PARK', 'NaN'),\n",
       " ('NOLES JAMES L', 'NaN'),\n",
       " ('FOWLER PEGGY', 'NaN'),\n",
       " ('WASAFF GEORGE', 'NaN'),\n",
       " ('CHRISTODOULOU DIOMEDES', 'NaN'),\n",
       " ('JAEDICKE ROBERT', 'NaN'),\n",
       " ('HUGHES JAMES A', 'NaN'),\n",
       " ('BHATNAGAR SANJAY', 'NaN'),\n",
       " ('CARTER REBECCA C', 'NaN'),\n",
       " ('HAYSLETT RODERICK J', 'NaN'),\n",
       " ('FUGH JOHN L', 'NaN'),\n",
       " ('SAVAGE FRANK', 'NaN'),\n",
       " ('TILNEY ELIZABETH A', 'NaN'),\n",
       " ('BUY RICHARD B', 'NaN'),\n",
       " ('GRAMM WENDY L', 'NaN'),\n",
       " ('TAYLOR MITCHELL S', 'NaN')]"
      ]
     },
     "execution_count": 37,
     "metadata": {},
     "output_type": "execute_result"
    }
   ],
   "source": [
    "expenses"
   ]
  },
  {
   "cell_type": "code",
   "execution_count": 115,
   "metadata": {
    "collapsed": false
   },
   "outputs": [
    {
     "data": {
      "text/plain": [
       "<Container object of 146 artists>"
      ]
     },
     "execution_count": 115,
     "metadata": {},
     "output_type": "execute_result"
    },
    {
     "data": {
      "image/png": "[encoded data removed]",
      "text/plain": [
       "<matplotlib.figure.Figure at 0x11450bdd0>"
      ]
     },
     "metadata": {},
     "output_type": "display_data"
    }
   ],
   "source": [
    "(people, values) = zip(*expenses)\n",
    "plt.bar(values, range(len(values)))"
   ]
  },
  {
   "cell_type": "markdown",
   "metadata": {},
   "source": [
    "There is an outlier: *TOTAL*. This certainly a column for totals. Let's remove it before proceeding."
   ]
  },
  {
   "cell_type": "code",
   "execution_count": 85,
   "metadata": {
    "collapsed": true
   },
   "outputs": [],
   "source": [
    "del data_dict['TOTAL']"
   ]
  },
  {
   "cell_type": "code",
   "execution_count": 86,
   "metadata": {
    "collapsed": false
   },
   "outputs": [],
   "source": [
    "df = pandas.DataFrame.from_dict(data_dict, orient='index')"
   ]
  },
  {
   "cell_type": "code",
   "execution_count": 106,
   "metadata": {
    "collapsed": false
   },
   "outputs": [
    {
     "data": {
      "text/html": [
       "<div>\n",
       "<table border=\"1\" class=\"dataframe\">\n",
       "  <thead>\n",
       "    <tr style=\"text-align: right;\">\n",
       "      <th></th>\n",
       "      <th>salary</th>\n",
       "      <th>to_messages</th>\n",
       "      <th>deferral_payments</th>\n",
       "      <th>total_payments</th>\n",
       "      <th>exercised_stock_options</th>\n",
       "      <th>bonus</th>\n",
       "      <th>restricted_stock</th>\n",
       "      <th>shared_receipt_with_poi</th>\n",
       "      <th>restricted_stock_deferred</th>\n",
       "      <th>total_stock_value</th>\n",
       "      <th>...</th>\n",
       "      <th>loan_advances</th>\n",
       "      <th>from_messages</th>\n",
       "      <th>other</th>\n",
       "      <th>from_this_person_to_poi</th>\n",
       "      <th>poi</th>\n",
       "      <th>director_fees</th>\n",
       "      <th>deferred_income</th>\n",
       "      <th>long_term_incentive</th>\n",
       "      <th>email_address</th>\n",
       "      <th>from_poi_to_this_person</th>\n",
       "    </tr>\n",
       "  </thead>\n",
       "  <tbody>\n",
       "    <tr>\n",
       "      <th>ALLEN PHILLIP K</th>\n",
       "      <td>201955</td>\n",
       "      <td>2902</td>\n",
       "      <td>2869717</td>\n",
       "      <td>4484442</td>\n",
       "      <td>1729541</td>\n",
       "      <td>4175000</td>\n",
       "      <td>126027</td>\n",
       "      <td>1407</td>\n",
       "      <td>-126027</td>\n",
       "      <td>1729541</td>\n",
       "      <td>...</td>\n",
       "      <td>NaN</td>\n",
       "      <td>2195</td>\n",
       "      <td>152</td>\n",
       "      <td>65</td>\n",
       "      <td>False</td>\n",
       "      <td>NaN</td>\n",
       "      <td>-3081055</td>\n",
       "      <td>304805</td>\n",
       "      <td>phillip.allen@enron.com</td>\n",
       "      <td>47</td>\n",
       "    </tr>\n",
       "    <tr>\n",
       "      <th>BADUM JAMES P</th>\n",
       "      <td>NaN</td>\n",
       "      <td>NaN</td>\n",
       "      <td>178980</td>\n",
       "      <td>182466</td>\n",
       "      <td>257817</td>\n",
       "      <td>NaN</td>\n",
       "      <td>NaN</td>\n",
       "      <td>NaN</td>\n",
       "      <td>NaN</td>\n",
       "      <td>257817</td>\n",
       "      <td>...</td>\n",
       "      <td>NaN</td>\n",
       "      <td>NaN</td>\n",
       "      <td>NaN</td>\n",
       "      <td>NaN</td>\n",
       "      <td>False</td>\n",
       "      <td>NaN</td>\n",
       "      <td>NaN</td>\n",
       "      <td>NaN</td>\n",
       "      <td>NaN</td>\n",
       "      <td>NaN</td>\n",
       "    </tr>\n",
       "    <tr>\n",
       "      <th>BANNANTINE JAMES M</th>\n",
       "      <td>477</td>\n",
       "      <td>566</td>\n",
       "      <td>NaN</td>\n",
       "      <td>916197</td>\n",
       "      <td>4046157</td>\n",
       "      <td>NaN</td>\n",
       "      <td>1757552</td>\n",
       "      <td>465</td>\n",
       "      <td>-560222</td>\n",
       "      <td>5243487</td>\n",
       "      <td>...</td>\n",
       "      <td>NaN</td>\n",
       "      <td>29</td>\n",
       "      <td>864523</td>\n",
       "      <td>0</td>\n",
       "      <td>False</td>\n",
       "      <td>NaN</td>\n",
       "      <td>-5104</td>\n",
       "      <td>NaN</td>\n",
       "      <td>james.bannantine@enron.com</td>\n",
       "      <td>39</td>\n",
       "    </tr>\n",
       "    <tr>\n",
       "      <th>BAXTER JOHN C</th>\n",
       "      <td>267102</td>\n",
       "      <td>NaN</td>\n",
       "      <td>1295738</td>\n",
       "      <td>5634343</td>\n",
       "      <td>6680544</td>\n",
       "      <td>1200000</td>\n",
       "      <td>3942714</td>\n",
       "      <td>NaN</td>\n",
       "      <td>NaN</td>\n",
       "      <td>10623258</td>\n",
       "      <td>...</td>\n",
       "      <td>NaN</td>\n",
       "      <td>NaN</td>\n",
       "      <td>2660303</td>\n",
       "      <td>NaN</td>\n",
       "      <td>False</td>\n",
       "      <td>NaN</td>\n",
       "      <td>-1386055</td>\n",
       "      <td>1586055</td>\n",
       "      <td>NaN</td>\n",
       "      <td>NaN</td>\n",
       "    </tr>\n",
       "    <tr>\n",
       "      <th>BAY FRANKLIN R</th>\n",
       "      <td>239671</td>\n",
       "      <td>NaN</td>\n",
       "      <td>260455</td>\n",
       "      <td>827696</td>\n",
       "      <td>NaN</td>\n",
       "      <td>400000</td>\n",
       "      <td>145796</td>\n",
       "      <td>NaN</td>\n",
       "      <td>-82782</td>\n",
       "      <td>63014</td>\n",
       "      <td>...</td>\n",
       "      <td>NaN</td>\n",
       "      <td>NaN</td>\n",
       "      <td>69</td>\n",
       "      <td>NaN</td>\n",
       "      <td>False</td>\n",
       "      <td>NaN</td>\n",
       "      <td>-201641</td>\n",
       "      <td>NaN</td>\n",
       "      <td>frank.bay@enron.com</td>\n",
       "      <td>NaN</td>\n",
       "    </tr>\n",
       "  </tbody>\n",
       "</table>\n",
       "<p>5 rows × 21 columns</p>\n",
       "</div>"
      ],
      "text/plain": [
       "                    salary to_messages deferral_payments total_payments  \\\n",
       "ALLEN PHILLIP K     201955        2902           2869717        4484442   \n",
       "BADUM JAMES P          NaN         NaN            178980         182466   \n",
       "BANNANTINE JAMES M     477         566               NaN         916197   \n",
       "BAXTER JOHN C       267102         NaN           1295738        5634343   \n",
       "BAY FRANKLIN R      239671         NaN            260455         827696   \n",
       "\n",
       "                   exercised_stock_options    bonus restricted_stock  \\\n",
       "ALLEN PHILLIP K                    1729541  4175000           126027   \n",
       "BADUM JAMES P                       257817      NaN              NaN   \n",
       "BANNANTINE JAMES M                 4046157      NaN          1757552   \n",
       "BAXTER JOHN C                      6680544  1200000          3942714   \n",
       "BAY FRANKLIN R                         NaN   400000           145796   \n",
       "\n",
       "                   shared_receipt_with_poi restricted_stock_deferred  \\\n",
       "ALLEN PHILLIP K                       1407                   -126027   \n",
       "BADUM JAMES P                          NaN                       NaN   \n",
       "BANNANTINE JAMES M                     465                   -560222   \n",
       "BAXTER JOHN C                          NaN                       NaN   \n",
       "BAY FRANKLIN R                         NaN                    -82782   \n",
       "\n",
       "                   total_stock_value           ...            loan_advances  \\\n",
       "ALLEN PHILLIP K              1729541           ...                      NaN   \n",
       "BADUM JAMES P                 257817           ...                      NaN   \n",
       "BANNANTINE JAMES M           5243487           ...                      NaN   \n",
       "BAXTER JOHN C               10623258           ...                      NaN   \n",
       "BAY FRANKLIN R                 63014           ...                      NaN   \n",
       "\n",
       "                   from_messages    other from_this_person_to_poi    poi  \\\n",
       "ALLEN PHILLIP K             2195      152                      65  False   \n",
       "BADUM JAMES P                NaN      NaN                     NaN  False   \n",
       "BANNANTINE JAMES M            29   864523                       0  False   \n",
       "BAXTER JOHN C                NaN  2660303                     NaN  False   \n",
       "BAY FRANKLIN R               NaN       69                     NaN  False   \n",
       "\n",
       "                   director_fees deferred_income long_term_incentive  \\\n",
       "ALLEN PHILLIP K              NaN        -3081055              304805   \n",
       "BADUM JAMES P                NaN             NaN                 NaN   \n",
       "BANNANTINE JAMES M           NaN           -5104                 NaN   \n",
       "BAXTER JOHN C                NaN        -1386055             1586055   \n",
       "BAY FRANKLIN R               NaN         -201641                 NaN   \n",
       "\n",
       "                                 email_address from_poi_to_this_person  \n",
       "ALLEN PHILLIP K        phillip.allen@enron.com                      47  \n",
       "BADUM JAMES P                              NaN                     NaN  \n",
       "BANNANTINE JAMES M  james.bannantine@enron.com                      39  \n",
       "BAXTER JOHN C                              NaN                     NaN  \n",
       "BAY FRANKLIN R             frank.bay@enron.com                     NaN  \n",
       "\n",
       "[5 rows x 21 columns]"
      ]
     },
     "execution_count": 106,
     "metadata": {},
     "output_type": "execute_result"
    }
   ],
   "source": [
    "df.head()"
   ]
  },
  {
   "cell_type": "code",
   "execution_count": 158,
   "metadata": {
    "collapsed": true
   },
   "outputs": [],
   "source": [
    "df['expenses'] = df['expenses'].astype('float')\n",
    "df['salary'] = df['salary'].astype('float')\n",
    "df['from_this_person_to_poi'] = df['from_this_person_to_poi'].astype('float')\n",
    "df['from_poi_to_this_person'] = df['from_poi_to_this_person'].astype('float')"
   ]
  },
  {
   "cell_type": "markdown",
   "metadata": {},
   "source": [
    "# Expenses Data Distribution"
   ]
  },
  {
   "cell_type": "code",
   "execution_count": 114,
   "metadata": {
    "collapsed": false
   },
   "outputs": [
    {
     "data": {
      "text/plain": [
       "<matplotlib.axes._subplots.AxesSubplot at 0x1128d84d0>"
      ]
     },
     "execution_count": 114,
     "metadata": {},
     "output_type": "execute_result"
    },
    {
     "data": {
      "image/png": "[encoded data removed]",
      "text/plain": [
       "<matplotlib.figure.Figure at 0x1122c9d90>"
      ]
     },
     "metadata": {},
     "output_type": "display_data"
    },
    {
     "data": {
      "image/png": "[encoded data removed]",
      "text/plain": [
       "<matplotlib.figure.Figure at 0x111b16b90>"
      ]
     },
     "metadata": {},
     "output_type": "display_data"
    },
    {
     "data": {
      "image/png": "[encoded data removed]",
      "text/plain": [
       "<matplotlib.figure.Figure at 0x1136b5d10>"
      ]
     },
     "metadata": {},
     "output_type": "display_data"
    }
   ],
   "source": [
    "df['expenses'] = df['expenses'].astype('float')\n",
    "df['expenses'].hist(bins=100)\n",
    "plt.figure()\n",
    "df['expenses'].hist(bins=50)\n",
    "plt.figure()\n",
    "df['expenses'].hist(bins=20)"
   ]
  },
  {
   "cell_type": "markdown",
   "metadata": {},
   "source": [
    "We can see that there are **three** employees spend considerably more than others."
   ]
  },
  {
   "cell_type": "code",
   "execution_count": 125,
   "metadata": {
    "collapsed": false
   },
   "outputs": [
    {
     "data": {
      "text/html": [
       "<div>\n",
       "<table border=\"1\" class=\"dataframe\">\n",
       "  <thead>\n",
       "    <tr style=\"text-align: right;\">\n",
       "      <th></th>\n",
       "      <th>salary</th>\n",
       "      <th>to_messages</th>\n",
       "      <th>deferral_payments</th>\n",
       "      <th>total_payments</th>\n",
       "      <th>exercised_stock_options</th>\n",
       "      <th>bonus</th>\n",
       "      <th>restricted_stock</th>\n",
       "      <th>shared_receipt_with_poi</th>\n",
       "      <th>restricted_stock_deferred</th>\n",
       "      <th>total_stock_value</th>\n",
       "      <th>...</th>\n",
       "      <th>loan_advances</th>\n",
       "      <th>from_messages</th>\n",
       "      <th>other</th>\n",
       "      <th>from_this_person_to_poi</th>\n",
       "      <th>poi</th>\n",
       "      <th>director_fees</th>\n",
       "      <th>deferred_income</th>\n",
       "      <th>long_term_incentive</th>\n",
       "      <th>email_address</th>\n",
       "      <th>from_poi_to_this_person</th>\n",
       "    </tr>\n",
       "  </thead>\n",
       "  <tbody>\n",
       "    <tr>\n",
       "      <th>MCCLELLAN GEORGE</th>\n",
       "      <td>263413</td>\n",
       "      <td>1744</td>\n",
       "      <td>NaN</td>\n",
       "      <td>1318763</td>\n",
       "      <td>506765</td>\n",
       "      <td>900000</td>\n",
       "      <td>441096</td>\n",
       "      <td>1469</td>\n",
       "      <td>NaN</td>\n",
       "      <td>947861</td>\n",
       "      <td>...</td>\n",
       "      <td>NaN</td>\n",
       "      <td>49</td>\n",
       "      <td>51587</td>\n",
       "      <td>0</td>\n",
       "      <td>False</td>\n",
       "      <td>NaN</td>\n",
       "      <td>-125000</td>\n",
       "      <td>NaN</td>\n",
       "      <td>george.mcclellan@enron.com</td>\n",
       "      <td>52</td>\n",
       "    </tr>\n",
       "    <tr>\n",
       "      <th>SHANKMAN JEFFREY A</th>\n",
       "      <td>304110</td>\n",
       "      <td>3221</td>\n",
       "      <td>NaN</td>\n",
       "      <td>3038702</td>\n",
       "      <td>1441898</td>\n",
       "      <td>2000000</td>\n",
       "      <td>630137</td>\n",
       "      <td>1730</td>\n",
       "      <td>NaN</td>\n",
       "      <td>2072035</td>\n",
       "      <td>...</td>\n",
       "      <td>NaN</td>\n",
       "      <td>2681</td>\n",
       "      <td>1191</td>\n",
       "      <td>83</td>\n",
       "      <td>False</td>\n",
       "      <td>NaN</td>\n",
       "      <td>NaN</td>\n",
       "      <td>554422</td>\n",
       "      <td>jeffrey.shankman@enron.com</td>\n",
       "      <td>94</td>\n",
       "    </tr>\n",
       "    <tr>\n",
       "      <th>URQUHART JOHN A</th>\n",
       "      <td>NaN</td>\n",
       "      <td>NaN</td>\n",
       "      <td>NaN</td>\n",
       "      <td>228656</td>\n",
       "      <td>NaN</td>\n",
       "      <td>NaN</td>\n",
       "      <td>NaN</td>\n",
       "      <td>NaN</td>\n",
       "      <td>NaN</td>\n",
       "      <td>NaN</td>\n",
       "      <td>...</td>\n",
       "      <td>NaN</td>\n",
       "      <td>NaN</td>\n",
       "      <td>NaN</td>\n",
       "      <td>NaN</td>\n",
       "      <td>False</td>\n",
       "      <td>36666</td>\n",
       "      <td>-36666</td>\n",
       "      <td>NaN</td>\n",
       "      <td>NaN</td>\n",
       "      <td>NaN</td>\n",
       "    </tr>\n",
       "  </tbody>\n",
       "</table>\n",
       "<p>3 rows × 21 columns</p>\n",
       "</div>"
      ],
      "text/plain": [
       "                    salary to_messages deferral_payments total_payments  \\\n",
       "MCCLELLAN GEORGE    263413        1744               NaN        1318763   \n",
       "SHANKMAN JEFFREY A  304110        3221               NaN        3038702   \n",
       "URQUHART JOHN A        NaN         NaN               NaN         228656   \n",
       "\n",
       "                   exercised_stock_options    bonus restricted_stock  \\\n",
       "MCCLELLAN GEORGE                    506765   900000           441096   \n",
       "SHANKMAN JEFFREY A                 1441898  2000000           630137   \n",
       "URQUHART JOHN A                        NaN      NaN              NaN   \n",
       "\n",
       "                   shared_receipt_with_poi restricted_stock_deferred  \\\n",
       "MCCLELLAN GEORGE                      1469                       NaN   \n",
       "SHANKMAN JEFFREY A                    1730                       NaN   \n",
       "URQUHART JOHN A                        NaN                       NaN   \n",
       "\n",
       "                   total_stock_value           ...            loan_advances  \\\n",
       "MCCLELLAN GEORGE              947861           ...                      NaN   \n",
       "SHANKMAN JEFFREY A           2072035           ...                      NaN   \n",
       "URQUHART JOHN A                  NaN           ...                      NaN   \n",
       "\n",
       "                   from_messages  other from_this_person_to_poi    poi  \\\n",
       "MCCLELLAN GEORGE              49  51587                       0  False   \n",
       "SHANKMAN JEFFREY A          2681   1191                      83  False   \n",
       "URQUHART JOHN A              NaN    NaN                     NaN  False   \n",
       "\n",
       "                   director_fees deferred_income long_term_incentive  \\\n",
       "MCCLELLAN GEORGE             NaN         -125000                 NaN   \n",
       "SHANKMAN JEFFREY A           NaN             NaN              554422   \n",
       "URQUHART JOHN A            36666          -36666                 NaN   \n",
       "\n",
       "                                 email_address from_poi_to_this_person  \n",
       "MCCLELLAN GEORGE    george.mcclellan@enron.com                      52  \n",
       "SHANKMAN JEFFREY A  jeffrey.shankman@enron.com                      94  \n",
       "URQUHART JOHN A                            NaN                     NaN  \n",
       "\n",
       "[3 rows x 21 columns]"
      ]
     },
     "execution_count": 125,
     "metadata": {},
     "output_type": "execute_result"
    }
   ],
   "source": [
    "df[df['expenses']>150000]"
   ]
  },
  {
   "cell_type": "markdown",
   "metadata": {},
   "source": [
    "# Salary Data Distribution"
   ]
  },
  {
   "cell_type": "code",
   "execution_count": 113,
   "metadata": {
    "collapsed": false
   },
   "outputs": [
    {
     "data": {
      "text/plain": [
       "<matplotlib.axes._subplots.AxesSubplot at 0x111cbfb10>"
      ]
     },
     "execution_count": 113,
     "metadata": {},
     "output_type": "execute_result"
    },
    {
     "data": {
      "image/png": "[encoded data removed]",
      "text/plain": [
       "<matplotlib.figure.Figure at 0x11498dad0>"
      ]
     },
     "metadata": {},
     "output_type": "display_data"
    },
    {
     "data": {
      "image/png": "[encoded data removed]",
      "text/plain": [
       "<matplotlib.figure.Figure at 0x11498ded0>"
      ]
     },
     "metadata": {},
     "output_type": "display_data"
    },
    {
     "data": {
      "image/png": "[encoded data removed]",
      "text/plain": [
       "<matplotlib.figure.Figure at 0x113f18d10>"
      ]
     },
     "metadata": {},
     "output_type": "display_data"
    }
   ],
   "source": [
    "df['salary'] = df['salary'].astype('float')\n",
    "df['salary'].hist(bins=100)\n",
    "plt.figure()\n",
    "df['salary'].hist(bins=50)\n",
    "plt.figure()\n",
    "df['salary'].hist(bins=20)"
   ]
  },
  {
   "cell_type": "markdown",
   "metadata": {},
   "source": [
    "There are **four** people with a considerably higher salary than other employees (>\\$600K)."
   ]
  },
  {
   "cell_type": "code",
   "execution_count": 128,
   "metadata": {
    "collapsed": false
   },
   "outputs": [
    {
     "data": {
      "text/html": [
       "<div>\n",
       "<table border=\"1\" class=\"dataframe\">\n",
       "  <thead>\n",
       "    <tr style=\"text-align: right;\">\n",
       "      <th></th>\n",
       "      <th>salary</th>\n",
       "      <th>to_messages</th>\n",
       "      <th>deferral_payments</th>\n",
       "      <th>total_payments</th>\n",
       "      <th>exercised_stock_options</th>\n",
       "      <th>bonus</th>\n",
       "      <th>restricted_stock</th>\n",
       "      <th>shared_receipt_with_poi</th>\n",
       "      <th>restricted_stock_deferred</th>\n",
       "      <th>total_stock_value</th>\n",
       "      <th>...</th>\n",
       "      <th>loan_advances</th>\n",
       "      <th>from_messages</th>\n",
       "      <th>other</th>\n",
       "      <th>from_this_person_to_poi</th>\n",
       "      <th>poi</th>\n",
       "      <th>director_fees</th>\n",
       "      <th>deferred_income</th>\n",
       "      <th>long_term_incentive</th>\n",
       "      <th>email_address</th>\n",
       "      <th>from_poi_to_this_person</th>\n",
       "    </tr>\n",
       "  </thead>\n",
       "  <tbody>\n",
       "    <tr>\n",
       "      <th>FREVERT MARK A</th>\n",
       "      <td>1060932</td>\n",
       "      <td>3275</td>\n",
       "      <td>6426990</td>\n",
       "      <td>17252530</td>\n",
       "      <td>10433518</td>\n",
       "      <td>2000000</td>\n",
       "      <td>4188667</td>\n",
       "      <td>2979</td>\n",
       "      <td>NaN</td>\n",
       "      <td>14622185</td>\n",
       "      <td>...</td>\n",
       "      <td>2000000</td>\n",
       "      <td>21</td>\n",
       "      <td>7427621</td>\n",
       "      <td>6</td>\n",
       "      <td>False</td>\n",
       "      <td>NaN</td>\n",
       "      <td>-3367011</td>\n",
       "      <td>1617011</td>\n",
       "      <td>mark.frevert@enron.com</td>\n",
       "      <td>242</td>\n",
       "    </tr>\n",
       "    <tr>\n",
       "      <th>LAY KENNETH L</th>\n",
       "      <td>1072321</td>\n",
       "      <td>4273</td>\n",
       "      <td>202911</td>\n",
       "      <td>103559793</td>\n",
       "      <td>34348384</td>\n",
       "      <td>7000000</td>\n",
       "      <td>14761694</td>\n",
       "      <td>2411</td>\n",
       "      <td>NaN</td>\n",
       "      <td>49110078</td>\n",
       "      <td>...</td>\n",
       "      <td>81525000</td>\n",
       "      <td>36</td>\n",
       "      <td>10359729</td>\n",
       "      <td>16</td>\n",
       "      <td>True</td>\n",
       "      <td>NaN</td>\n",
       "      <td>-300000</td>\n",
       "      <td>3600000</td>\n",
       "      <td>kenneth.lay@enron.com</td>\n",
       "      <td>123</td>\n",
       "    </tr>\n",
       "    <tr>\n",
       "      <th>PICKERING MARK R</th>\n",
       "      <td>655037</td>\n",
       "      <td>898</td>\n",
       "      <td>NaN</td>\n",
       "      <td>1386690</td>\n",
       "      <td>28798</td>\n",
       "      <td>300000</td>\n",
       "      <td>NaN</td>\n",
       "      <td>728</td>\n",
       "      <td>NaN</td>\n",
       "      <td>28798</td>\n",
       "      <td>...</td>\n",
       "      <td>400000</td>\n",
       "      <td>67</td>\n",
       "      <td>NaN</td>\n",
       "      <td>0</td>\n",
       "      <td>False</td>\n",
       "      <td>NaN</td>\n",
       "      <td>NaN</td>\n",
       "      <td>NaN</td>\n",
       "      <td>mark.pickering@enron.com</td>\n",
       "      <td>7</td>\n",
       "    </tr>\n",
       "    <tr>\n",
       "      <th>SKILLING JEFFREY K</th>\n",
       "      <td>1111258</td>\n",
       "      <td>3627</td>\n",
       "      <td>NaN</td>\n",
       "      <td>8682716</td>\n",
       "      <td>19250000</td>\n",
       "      <td>5600000</td>\n",
       "      <td>6843672</td>\n",
       "      <td>2042</td>\n",
       "      <td>NaN</td>\n",
       "      <td>26093672</td>\n",
       "      <td>...</td>\n",
       "      <td>NaN</td>\n",
       "      <td>108</td>\n",
       "      <td>22122</td>\n",
       "      <td>30</td>\n",
       "      <td>True</td>\n",
       "      <td>NaN</td>\n",
       "      <td>NaN</td>\n",
       "      <td>1920000</td>\n",
       "      <td>jeff.skilling@enron.com</td>\n",
       "      <td>88</td>\n",
       "    </tr>\n",
       "  </tbody>\n",
       "</table>\n",
       "<p>4 rows × 21 columns</p>\n",
       "</div>"
      ],
      "text/plain": [
       "                     salary to_messages deferral_payments total_payments  \\\n",
       "FREVERT MARK A      1060932        3275           6426990       17252530   \n",
       "LAY KENNETH L       1072321        4273            202911      103559793   \n",
       "PICKERING MARK R     655037         898               NaN        1386690   \n",
       "SKILLING JEFFREY K  1111258        3627               NaN        8682716   \n",
       "\n",
       "                   exercised_stock_options    bonus restricted_stock  \\\n",
       "FREVERT MARK A                    10433518  2000000          4188667   \n",
       "LAY KENNETH L                     34348384  7000000         14761694   \n",
       "PICKERING MARK R                     28798   300000              NaN   \n",
       "SKILLING JEFFREY K                19250000  5600000          6843672   \n",
       "\n",
       "                   shared_receipt_with_poi restricted_stock_deferred  \\\n",
       "FREVERT MARK A                        2979                       NaN   \n",
       "LAY KENNETH L                         2411                       NaN   \n",
       "PICKERING MARK R                       728                       NaN   \n",
       "SKILLING JEFFREY K                    2042                       NaN   \n",
       "\n",
       "                   total_stock_value           ...            loan_advances  \\\n",
       "FREVERT MARK A              14622185           ...                  2000000   \n",
       "LAY KENNETH L               49110078           ...                 81525000   \n",
       "PICKERING MARK R               28798           ...                   400000   \n",
       "SKILLING JEFFREY K          26093672           ...                      NaN   \n",
       "\n",
       "                   from_messages     other from_this_person_to_poi    poi  \\\n",
       "FREVERT MARK A                21   7427621                       6  False   \n",
       "LAY KENNETH L                 36  10359729                      16   True   \n",
       "PICKERING MARK R              67       NaN                       0  False   \n",
       "SKILLING JEFFREY K           108     22122                      30   True   \n",
       "\n",
       "                   director_fees deferred_income long_term_incentive  \\\n",
       "FREVERT MARK A               NaN        -3367011             1617011   \n",
       "LAY KENNETH L                NaN         -300000             3600000   \n",
       "PICKERING MARK R             NaN             NaN                 NaN   \n",
       "SKILLING JEFFREY K           NaN             NaN             1920000   \n",
       "\n",
       "                               email_address from_poi_to_this_person  \n",
       "FREVERT MARK A        mark.frevert@enron.com                     242  \n",
       "LAY KENNETH L          kenneth.lay@enron.com                     123  \n",
       "PICKERING MARK R    mark.pickering@enron.com                       7  \n",
       "SKILLING JEFFREY K   jeff.skilling@enron.com                      88  \n",
       "\n",
       "[4 rows x 21 columns]"
      ]
     },
     "execution_count": 128,
     "metadata": {},
     "output_type": "execute_result"
    }
   ],
   "source": [
    "df[df['salary']>600000]"
   ]
  },
  {
   "cell_type": "markdown",
   "metadata": {},
   "source": [
    "Top salary employees are not the same as top expenses employees."
   ]
  },
  {
   "cell_type": "code",
   "execution_count": 155,
   "metadata": {
    "collapsed": false
   },
   "outputs": [
    {
     "data": {
      "text/plain": [
       "(([], <a list of 0 Text xticklabel objects>),\n",
       " ([], <a list of 0 Text yticklabel objects>))"
      ]
     },
     "execution_count": 155,
     "metadata": {},
     "output_type": "execute_result"
    },
    {
     "data": {
      "image/png": "[encoded data removed]",
      "text/plain": [
       "<matplotlib.figure.Figure at 0x114307410>"
      ]
     },
     "metadata": {},
     "output_type": "display_data"
    }
   ],
   "source": [
    "fig = plt.figure()\n",
    "#fig.subplots_adjust(bottom=0.025, left=0.025, top = 0.975, right=0.975)\n",
    "\n",
    "plt.subplot(3,1,1)\n",
    "plt.xticks([]), plt.yticks([])\n",
    "\n",
    "plt.subplot(3,3,4)\n",
    "plt.xticks([]), plt.yticks([])\n",
    "\n",
    "plt.subplot(3,3,5)\n",
    "plt.xticks([]), plt.yticks([])\n",
    "\n",
    "plt.subplot(3,3,6)\n",
    "plt.xticks([]), plt.yticks([])\n",
    "\n",
    "plt.subplot(3,3,(8,9))\n",
    "plt.xticks([]), plt.yticks([])\n",
    "\n"
   ]
  },
  {
   "cell_type": "code",
   "execution_count": 166,
   "metadata": {
    "collapsed": false
   },
   "outputs": [
    {
     "data": {
      "text/plain": [
       "array([[<matplotlib.axes._subplots.AxesSubplot object at 0x1147ff450>,\n",
       "        <matplotlib.axes._subplots.AxesSubplot object at 0x1143ff490>]], dtype=object)"
      ]
     },
     "execution_count": 166,
     "metadata": {},
     "output_type": "execute_result"
    },
    {
     "data": {
      "image/png": "[encoded data removed]",
      "text/plain": [
       "<matplotlib.figure.Figure at 0x115b4e050>"
      ]
     },
     "metadata": {},
     "output_type": "display_data"
    }
   ],
   "source": [
    "df[['from_this_person_to_poi','from_poi_to_this_person']].hist(bins=20)"
   ]
  },
  {
   "cell_type": "code",
   "execution_count": 167,
   "metadata": {
    "collapsed": false
   },
   "outputs": [
    {
     "data": {
      "text/html": [
       "<div>\n",
       "<table border=\"1\" class=\"dataframe\">\n",
       "  <thead>\n",
       "    <tr style=\"text-align: right;\">\n",
       "      <th></th>\n",
       "      <th>salary</th>\n",
       "      <th>to_messages</th>\n",
       "      <th>deferral_payments</th>\n",
       "      <th>total_payments</th>\n",
       "      <th>exercised_stock_options</th>\n",
       "      <th>bonus</th>\n",
       "      <th>restricted_stock</th>\n",
       "      <th>shared_receipt_with_poi</th>\n",
       "      <th>restricted_stock_deferred</th>\n",
       "      <th>total_stock_value</th>\n",
       "      <th>...</th>\n",
       "      <th>loan_advances</th>\n",
       "      <th>from_messages</th>\n",
       "      <th>other</th>\n",
       "      <th>from_this_person_to_poi</th>\n",
       "      <th>poi</th>\n",
       "      <th>director_fees</th>\n",
       "      <th>deferred_income</th>\n",
       "      <th>long_term_incentive</th>\n",
       "      <th>email_address</th>\n",
       "      <th>from_poi_to_this_person</th>\n",
       "    </tr>\n",
       "  </thead>\n",
       "  <tbody>\n",
       "    <tr>\n",
       "      <th>BECK SALLY W</th>\n",
       "      <td>231330</td>\n",
       "      <td>7315</td>\n",
       "      <td>NaN</td>\n",
       "      <td>969068</td>\n",
       "      <td>NaN</td>\n",
       "      <td>700000</td>\n",
       "      <td>126027</td>\n",
       "      <td>2639</td>\n",
       "      <td>NaN</td>\n",
       "      <td>126027</td>\n",
       "      <td>...</td>\n",
       "      <td>NaN</td>\n",
       "      <td>4343</td>\n",
       "      <td>566</td>\n",
       "      <td>386</td>\n",
       "      <td>False</td>\n",
       "      <td>NaN</td>\n",
       "      <td>NaN</td>\n",
       "      <td>NaN</td>\n",
       "      <td>sally.beck@enron.com</td>\n",
       "      <td>144</td>\n",
       "    </tr>\n",
       "    <tr>\n",
       "      <th>DELAINEY DAVID W</th>\n",
       "      <td>365163</td>\n",
       "      <td>3093</td>\n",
       "      <td>NaN</td>\n",
       "      <td>4747979</td>\n",
       "      <td>2291113</td>\n",
       "      <td>3000000</td>\n",
       "      <td>1323148</td>\n",
       "      <td>2097</td>\n",
       "      <td>NaN</td>\n",
       "      <td>3614261</td>\n",
       "      <td>...</td>\n",
       "      <td>NaN</td>\n",
       "      <td>3069</td>\n",
       "      <td>1661</td>\n",
       "      <td>609</td>\n",
       "      <td>True</td>\n",
       "      <td>NaN</td>\n",
       "      <td>NaN</td>\n",
       "      <td>1294981</td>\n",
       "      <td>david.delainey@enron.com</td>\n",
       "      <td>66</td>\n",
       "    </tr>\n",
       "    <tr>\n",
       "      <th>KEAN STEVEN J</th>\n",
       "      <td>404338</td>\n",
       "      <td>12754</td>\n",
       "      <td>NaN</td>\n",
       "      <td>1747522</td>\n",
       "      <td>2022048</td>\n",
       "      <td>1000000</td>\n",
       "      <td>4131594</td>\n",
       "      <td>3639</td>\n",
       "      <td>NaN</td>\n",
       "      <td>6153642</td>\n",
       "      <td>...</td>\n",
       "      <td>NaN</td>\n",
       "      <td>6759</td>\n",
       "      <td>1231</td>\n",
       "      <td>387</td>\n",
       "      <td>False</td>\n",
       "      <td>NaN</td>\n",
       "      <td>NaN</td>\n",
       "      <td>300000</td>\n",
       "      <td>steven.kean@enron.com</td>\n",
       "      <td>140</td>\n",
       "    </tr>\n",
       "    <tr>\n",
       "      <th>LAVORATO JOHN J</th>\n",
       "      <td>339288</td>\n",
       "      <td>7259</td>\n",
       "      <td>NaN</td>\n",
       "      <td>10425757</td>\n",
       "      <td>4158995</td>\n",
       "      <td>8000000</td>\n",
       "      <td>1008149</td>\n",
       "      <td>3962</td>\n",
       "      <td>NaN</td>\n",
       "      <td>5167144</td>\n",
       "      <td>...</td>\n",
       "      <td>NaN</td>\n",
       "      <td>2585</td>\n",
       "      <td>1552</td>\n",
       "      <td>411</td>\n",
       "      <td>False</td>\n",
       "      <td>NaN</td>\n",
       "      <td>NaN</td>\n",
       "      <td>2035380</td>\n",
       "      <td>john.lavorato@enron.com</td>\n",
       "      <td>528</td>\n",
       "    </tr>\n",
       "  </tbody>\n",
       "</table>\n",
       "<p>4 rows × 21 columns</p>\n",
       "</div>"
      ],
      "text/plain": [
       "                  salary to_messages deferral_payments total_payments  \\\n",
       "BECK SALLY W      231330        7315               NaN         969068   \n",
       "DELAINEY DAVID W  365163        3093               NaN        4747979   \n",
       "KEAN STEVEN J     404338       12754               NaN        1747522   \n",
       "LAVORATO JOHN J   339288        7259               NaN       10425757   \n",
       "\n",
       "                 exercised_stock_options    bonus restricted_stock  \\\n",
       "BECK SALLY W                         NaN   700000           126027   \n",
       "DELAINEY DAVID W                 2291113  3000000          1323148   \n",
       "KEAN STEVEN J                    2022048  1000000          4131594   \n",
       "LAVORATO JOHN J                  4158995  8000000          1008149   \n",
       "\n",
       "                 shared_receipt_with_poi restricted_stock_deferred  \\\n",
       "BECK SALLY W                        2639                       NaN   \n",
       "DELAINEY DAVID W                    2097                       NaN   \n",
       "KEAN STEVEN J                       3639                       NaN   \n",
       "LAVORATO JOHN J                     3962                       NaN   \n",
       "\n",
       "                 total_stock_value           ...            loan_advances  \\\n",
       "BECK SALLY W                126027           ...                      NaN   \n",
       "DELAINEY DAVID W           3614261           ...                      NaN   \n",
       "KEAN STEVEN J              6153642           ...                      NaN   \n",
       "LAVORATO JOHN J            5167144           ...                      NaN   \n",
       "\n",
       "                 from_messages other from_this_person_to_poi    poi  \\\n",
       "BECK SALLY W              4343   566                     386  False   \n",
       "DELAINEY DAVID W          3069  1661                     609   True   \n",
       "KEAN STEVEN J             6759  1231                     387  False   \n",
       "LAVORATO JOHN J           2585  1552                     411  False   \n",
       "\n",
       "                 director_fees deferred_income long_term_incentive  \\\n",
       "BECK SALLY W               NaN             NaN                 NaN   \n",
       "DELAINEY DAVID W           NaN             NaN             1294981   \n",
       "KEAN STEVEN J              NaN             NaN              300000   \n",
       "LAVORATO JOHN J            NaN             NaN             2035380   \n",
       "\n",
       "                             email_address from_poi_to_this_person  \n",
       "BECK SALLY W          sally.beck@enron.com                     144  \n",
       "DELAINEY DAVID W  david.delainey@enron.com                      66  \n",
       "KEAN STEVEN J        steven.kean@enron.com                     140  \n",
       "LAVORATO JOHN J    john.lavorato@enron.com                     528  \n",
       "\n",
       "[4 rows x 21 columns]"
      ]
     },
     "execution_count": 167,
     "metadata": {},
     "output_type": "execute_result"
    }
   ],
   "source": [
    "df[df['from_this_person_to_poi']>280]"
   ]
  },
  {
   "cell_type": "code",
   "execution_count": 169,
   "metadata": {
    "collapsed": false
   },
   "outputs": [
    {
     "data": {
      "text/html": [
       "<div>\n",
       "<table border=\"1\" class=\"dataframe\">\n",
       "  <thead>\n",
       "    <tr style=\"text-align: right;\">\n",
       "      <th></th>\n",
       "      <th>salary</th>\n",
       "      <th>to_messages</th>\n",
       "      <th>deferral_payments</th>\n",
       "      <th>total_payments</th>\n",
       "      <th>exercised_stock_options</th>\n",
       "      <th>bonus</th>\n",
       "      <th>restricted_stock</th>\n",
       "      <th>shared_receipt_with_poi</th>\n",
       "      <th>restricted_stock_deferred</th>\n",
       "      <th>total_stock_value</th>\n",
       "      <th>...</th>\n",
       "      <th>loan_advances</th>\n",
       "      <th>from_messages</th>\n",
       "      <th>other</th>\n",
       "      <th>from_this_person_to_poi</th>\n",
       "      <th>poi</th>\n",
       "      <th>director_fees</th>\n",
       "      <th>deferred_income</th>\n",
       "      <th>long_term_incentive</th>\n",
       "      <th>email_address</th>\n",
       "      <th>from_poi_to_this_person</th>\n",
       "    </tr>\n",
       "  </thead>\n",
       "  <tbody>\n",
       "    <tr>\n",
       "      <th>DIETRICH JANET R</th>\n",
       "      <td>250100</td>\n",
       "      <td>2572</td>\n",
       "      <td>NaN</td>\n",
       "      <td>1410464</td>\n",
       "      <td>1550019</td>\n",
       "      <td>600000</td>\n",
       "      <td>315068</td>\n",
       "      <td>1902</td>\n",
       "      <td>NaN</td>\n",
       "      <td>1865087</td>\n",
       "      <td>...</td>\n",
       "      <td>NaN</td>\n",
       "      <td>63</td>\n",
       "      <td>473</td>\n",
       "      <td>14</td>\n",
       "      <td>False</td>\n",
       "      <td>NaN</td>\n",
       "      <td>NaN</td>\n",
       "      <td>556416</td>\n",
       "      <td>janet.dietrich@enron.com</td>\n",
       "      <td>305</td>\n",
       "    </tr>\n",
       "    <tr>\n",
       "      <th>LAVORATO JOHN J</th>\n",
       "      <td>339288</td>\n",
       "      <td>7259</td>\n",
       "      <td>NaN</td>\n",
       "      <td>10425757</td>\n",
       "      <td>4158995</td>\n",
       "      <td>8000000</td>\n",
       "      <td>1008149</td>\n",
       "      <td>3962</td>\n",
       "      <td>NaN</td>\n",
       "      <td>5167144</td>\n",
       "      <td>...</td>\n",
       "      <td>NaN</td>\n",
       "      <td>2585</td>\n",
       "      <td>1552</td>\n",
       "      <td>411</td>\n",
       "      <td>False</td>\n",
       "      <td>NaN</td>\n",
       "      <td>NaN</td>\n",
       "      <td>2035380</td>\n",
       "      <td>john.lavorato@enron.com</td>\n",
       "      <td>528</td>\n",
       "    </tr>\n",
       "  </tbody>\n",
       "</table>\n",
       "<p>2 rows × 21 columns</p>\n",
       "</div>"
      ],
      "text/plain": [
       "                  salary to_messages deferral_payments total_payments  \\\n",
       "DIETRICH JANET R  250100        2572               NaN        1410464   \n",
       "LAVORATO JOHN J   339288        7259               NaN       10425757   \n",
       "\n",
       "                 exercised_stock_options    bonus restricted_stock  \\\n",
       "DIETRICH JANET R                 1550019   600000           315068   \n",
       "LAVORATO JOHN J                  4158995  8000000          1008149   \n",
       "\n",
       "                 shared_receipt_with_poi restricted_stock_deferred  \\\n",
       "DIETRICH JANET R                    1902                       NaN   \n",
       "LAVORATO JOHN J                     3962                       NaN   \n",
       "\n",
       "                 total_stock_value           ...            loan_advances  \\\n",
       "DIETRICH JANET R           1865087           ...                      NaN   \n",
       "LAVORATO JOHN J            5167144           ...                      NaN   \n",
       "\n",
       "                 from_messages other from_this_person_to_poi    poi  \\\n",
       "DIETRICH JANET R            63   473                      14  False   \n",
       "LAVORATO JOHN J           2585  1552                     411  False   \n",
       "\n",
       "                 director_fees deferred_income long_term_incentive  \\\n",
       "DIETRICH JANET R           NaN             NaN              556416   \n",
       "LAVORATO JOHN J            NaN             NaN             2035380   \n",
       "\n",
       "                             email_address from_poi_to_this_person  \n",
       "DIETRICH JANET R  janet.dietrich@enron.com                     305  \n",
       "LAVORATO JOHN J    john.lavorato@enron.com                     528  \n",
       "\n",
       "[2 rows x 21 columns]"
      ]
     },
     "execution_count": 169,
     "metadata": {},
     "output_type": "execute_result"
    }
   ],
   "source": [
    "df[df['from_poi_to_this_person']>300]"
   ]
  },
  {
   "cell_type": "code",
   "execution_count": 171,
   "metadata": {
    "collapsed": false
   },
   "outputs": [
    {
     "name": "stderr",
     "output_type": "stream",
     "text": [
      "/Users/cruz/dev/udacity/venv/lib/python2.7/site-packages/ipykernel/__main__.py:1: FutureWarning: sort(columns=....) is deprecated, use sort_values(by=.....)\n",
      "  if __name__ == '__main__':\n"
     ]
    },
    {
     "data": {
      "text/plain": [
       "<matplotlib.axes._subplots.AxesSubplot at 0x1134a1990>"
      ]
     },
     "execution_count": 171,
     "metadata": {},
     "output_type": "execute_result"
    },
    {
     "data": {
      "image/png": "[encoded data removed]",
      "text/plain": [
       "<matplotlib.figure.Figure at 0x114624950>"
      ]
     },
     "metadata": {},
     "output_type": "display_data"
    }
   ],
   "source": [
    "df[['from_this_person_to_poi','from_poi_to_this_person']].sort('from_poi_to_this_person').plot()"
   ]
  },
  {
   "cell_type": "code",
   "execution_count": 173,
   "metadata": {
    "collapsed": false
   },
   "outputs": [
    {
     "data": {
      "text/plain": [
       "['salary',\n",
       " 'to_messages',\n",
       " 'deferral_payments',\n",
       " 'total_payments',\n",
       " 'exercised_stock_options',\n",
       " 'bonus',\n",
       " 'restricted_stock',\n",
       " 'shared_receipt_with_poi',\n",
       " 'restricted_stock_deferred',\n",
       " 'total_stock_value',\n",
       " 'expenses',\n",
       " 'loan_advances',\n",
       " 'from_messages',\n",
       " 'other',\n",
       " 'from_this_person_to_poi',\n",
       " 'poi',\n",
       " 'director_fees',\n",
       " 'deferred_income',\n",
       " 'long_term_incentive',\n",
       " 'email_address',\n",
       " 'from_poi_to_this_person']"
      ]
     },
     "execution_count": 173,
     "metadata": {},
     "output_type": "execute_result"
    }
   ],
   "source": [
    "list(df.columns)"
   ]
  },
  {
   "cell_type": "markdown",
   "metadata": {},
   "source": [
    "High 'from_this_person_to_poi' does not necessarily mean high 'from_poi_to_this_person', so both variables should evaluated."
   ]
  },
  {
   "cell_type": "code",
   "execution_count": null,
   "metadata": {
    "collapsed": true
   },
   "outputs": [],
   "source": []
  }
 ],
 "metadata": {
  "kernelspec": {
   "display_name": "Python 2",
   "language": "python",
   "name": "python2"
  },
  "language_info": {
   "codemirror_mode": {
    "name": "ipython",
    "version": 2
   },
   "file_extension": ".py",
   "mimetype": "text/x-python",
   "name": "python",
   "nbconvert_exporter": "python",
   "pygments_lexer": "ipython2",
   "version": "2.7.10"
  }
 },
 "nbformat": 4,
 "nbformat_minor": 0
}
